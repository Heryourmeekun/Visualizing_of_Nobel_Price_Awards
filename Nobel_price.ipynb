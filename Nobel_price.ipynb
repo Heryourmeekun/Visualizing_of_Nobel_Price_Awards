{
 "cells": [
  {
   "cell_type": "code",
   "execution_count": null,
   "id": "9a0d3adb-6a7f-4713-aef3-9d97e633e71f",
   "metadata": {},
   "outputs": [],
   "source": [
    "# Loading in required libraries\n",
    "import pandas as pd\n",
    "import seaborn as sns\n",
    "import numpy as np\n",
    "import matplotlib.pyplot as plt\n",
    "# The Nobel Foundation has made a dataset available of all prize winners from the outset of the awards from 1901 to 2023. The dataset used in this project is from the Nobel Prize API and is available in the nobel.csv file in the data folder.\n",
    "\n",
    "# Question one: Which gender has the highest number of winners?\n",
    "nobel = pd.read_csv('nobel.csv')\n",
    "top_gender = nobel['sex'].value_counts().index[0]\n",
    "print(top_gender)\n",
    "\n",
    "#Question two: Which birth_country has the highest number of winners?\n",
    "top_country= nobel['birth_country'].value_counts().index[0]\n",
    "print(top_country)\n",
    "\n",
    "#Question three: In which decade did the United States of America have the highest proportion of Nobel Prize winners?\n",
    "nobel['usa'] = nobel['birth_country']== \"United States of America\"\n",
    "nobel['decade'] = (np.floor(nobel['year']/10)*10).astype(int)\n",
    "ratio = nobel.groupby('decade', as_index=False)['usa'].mean()\n",
    "max_row= ratio[ratio['usa'] == ratio['usa'].max()]\n",
    "max_decade_usa = max_row['decade'].values[0]\n",
    "print(max_decade_usa)\n",
    "\n",
    "#Question four: In which decade and category did female Nobel Prize winners have the highest proportion of winners?\n",
    "nobel['female_winner'] = nobel['sex'] == 'Female'\n",
    "prop = nobel.groupby(['decade','category'],as_index=False)['female_winner'].mean()\n",
    "max_female  = prop[prop['female_winner']==prop['female_winner'].max()][['decade', 'category']]\n",
    "max_female_dict = {max_female['decade'].values[0]:max_female['category'].values[0]}\n",
    "print(max_female_dict)\n",
    "\n",
    "#Question 4: Using visualization, how does the proportion of female Nobel Prize winners vary across decades and categories\n",
    "sns.relplot(x='decade',y='female_winner',kind='line',hue='category',data=nobel,ci=None)\n",
    "plt.show()\n",
    "\n",
    "#Question 5: Who was the first female Nobel Prize winner, and in which category did she win?\n",
    "new_df =  nobel[nobel['female_winner']]\n",
    "woman_name = new_df.groupby(['full_name','category'],as_index=False)['year'].mean()\n",
    "min_row = woman_name[woman_name['year']==woman_name['year'].min()][['full_name','category']]\n",
    "first_woman_name = min_row['full_name'].values[0]\n",
    "first_woman_category = min_row['category'].values[0]\n",
    "print(first_woman_name)\n",
    "print(first_woman_category)\n",
    "\n",
    "#Question 6: Which individuals have won the Nobel Prize more than once?\n",
    "counts = nobel['full_name'].value_counts()\n",
    "counts_col=counts[counts>=2].index\n",
    "repeat_list= list(counts_col)\n",
    "print(repeat_list)\n"
   ]
  }
 ],
 "metadata": {
  "kernelspec": {
   "display_name": "Python 3 (ipykernel)",
   "language": "python",
   "name": "python3"
  },
  "language_info": {
   "codemirror_mode": {
    "name": "ipython",
    "version": 3
   },
   "file_extension": ".py",
   "mimetype": "text/x-python",
   "name": "python",
   "nbconvert_exporter": "python",
   "pygments_lexer": "ipython3",
   "version": "3.12.4"
  }
 },
 "nbformat": 4,
 "nbformat_minor": 5
}
